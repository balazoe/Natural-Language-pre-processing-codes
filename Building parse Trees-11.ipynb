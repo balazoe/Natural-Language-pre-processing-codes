{
 "cells": [
  {
   "cell_type": "markdown",
   "id": "3529c9a6",
   "metadata": {},
   "source": [
    "# LAB 11: Building parse Trees"
   ]
  },
  {
   "cell_type": "markdown",
   "id": "e9cb294d",
   "metadata": {},
   "source": [
    "## Name : Bala Murugan P"
   ]
  },
  {
   "cell_type": "markdown",
   "id": "99d366d5",
   "metadata": {},
   "source": [
    "## Roll No : 225229150"
   ]
  },
  {
   "cell_type": "markdown",
   "id": "ffb69a64",
   "metadata": {},
   "source": [
    "### Exercise:1"
   ]
  },
  {
   "cell_type": "code",
   "execution_count": 1,
   "id": "e5e39d64",
   "metadata": {},
   "outputs": [],
   "source": [
    "import nltk,re,pprint\n",
    "from nltk.tree import Tree\n",
    "from nltk.tokenize import word_tokenize\n",
    "from nltk.tag import pos_tag\n",
    "from nltk.chunk import ne_chunk\n",
    "import numpy as npt"
   ]
  },
  {
   "cell_type": "code",
   "execution_count": 4,
   "id": "7b368727",
   "metadata": {},
   "outputs": [
    {
     "name": "stdout",
     "output_type": "stream",
     "text": [
      "  NP \n",
      "  |   \n",
      "  N  \n",
      "  |   \n",
      "Marge\n",
      "\n"
     ]
    }
   ],
   "source": [
    "np= nltk.Tree.fromstring('(NP (N Marge))')\n",
    "np.pretty_print()"
   ]
  },
  {
   "cell_type": "code",
   "execution_count": 5,
   "id": "acd2d24a",
   "metadata": {},
   "outputs": [
    {
     "name": "stdout",
     "output_type": "stream",
     "text": [
      "          VP             \n",
      "  ________|___            \n",
      " |            NP         \n",
      " |     _______|_____      \n",
      " V   DET      N     N    \n",
      " |    |       |     |     \n",
      "make  a      ham sandwich\n",
      "\n"
     ]
    }
   ],
   "source": [
    "vp= nltk.Tree.fromstring('(VP (V make) (NP (DET a) (N ham) (N sandwich)))')\n",
    "vp.pretty_print()"
   ]
  },
  {
   "cell_type": "code",
   "execution_count": 6,
   "id": "8651a737",
   "metadata": {},
   "outputs": [
    {
     "name": "stdout",
     "output_type": "stream",
     "text": [
      "AUX \n",
      " |   \n",
      "will\n",
      "\n"
     ]
    }
   ],
   "source": [
    "aux= nltk.Tree.fromstring('(AUX will)')\n",
    "aux.pretty_print()\n"
   ]
  },
  {
   "cell_type": "markdown",
   "id": "944e77f5",
   "metadata": {},
   "source": [
    "### Exercise 2:"
   ]
  },
  {
   "cell_type": "code",
   "execution_count": 7,
   "id": "23c3b0b8",
   "metadata": {},
   "outputs": [
    {
     "name": "stdout",
     "output_type": "stream",
     "text": [
      "         NP           \n",
      "  _______|___          \n",
      " |           NP       \n",
      " |    _______|_____    \n",
      "Adj  N      Conj   N  \n",
      " |   |       |     |   \n",
      "old men     and  women\n",
      "\n"
     ]
    }
   ],
   "source": [
    "tree = nltk.Tree.fromstring('(NP (Adj old) (NP (N men) (Conj and) (N women)))')\n",
    "tree.pretty_print()"
   ]
  },
  {
   "cell_type": "markdown",
   "id": "383cfcb2",
   "metadata": {},
   "source": [
    "### Exercise- 3"
   ]
  },
  {
   "cell_type": "code",
   "execution_count": 8,
   "id": "522177af",
   "metadata": {},
   "outputs": [
    {
     "name": "stdout",
     "output_type": "stream",
     "text": [
      "            S                       \n",
      "   _________|________                \n",
      "  |    |             VP             \n",
      "  |    |     ________|___            \n",
      "  NP   |    |            NP         \n",
      "  |    |    |     _______|_____      \n",
      "  N   AUX   V   DET      N     N    \n",
      "  |    |    |    |       |     |     \n",
      "Marge will make  a      ham sandwich\n",
      "\n"
     ]
    }
   ],
   "source": [
    "s1= nltk.Tree.fromstring('(S (NP (N Marge)) (AUX will) (VP (V make) (NP (DET a) (N ham) (N sandwich))))')\n",
    "s1.pretty_print()"
   ]
  },
  {
   "cell_type": "code",
   "execution_count": 9,
   "id": "d13ae588",
   "metadata": {},
   "outputs": [
    {
     "name": "stdout",
     "output_type": "stream",
     "text": [
      "            S                       \n",
      "  __________|________                \n",
      " |     |             VP             \n",
      " |     |     ________|___            \n",
      " |     NP   |            NP         \n",
      " |     |    |     _______|_____      \n",
      "AUX    N    V   DET      N     N    \n",
      " |     |    |    |       |     |     \n",
      "will Marge make  a      ham sandwich\n",
      "\n"
     ]
    }
   ],
   "source": [
    "s2= nltk.Tree.fromstring('(S (AUX will) (NP (N Marge)) (VP (V make) (NP (DET a) (N ham) (N sandwich))))')\n",
    "s2.pretty_print()"
   ]
  },
  {
   "cell_type": "markdown",
   "id": "47225c21",
   "metadata": {},
   "source": [
    "### Exercise-4"
   ]
  },
  {
   "cell_type": "code",
   "execution_count": 10,
   "id": "9b720f0d",
   "metadata": {},
   "outputs": [
    {
     "name": "stdout",
     "output_type": "stream",
     "text": [
      "           S                         \n",
      "   ________|________                  \n",
      "  |                 VP               \n",
      "  |     ____________|________         \n",
      "  |    |       |             PP      \n",
      "  |    |       |          ___|____    \n",
      "  |    |       NP        |        NP \n",
      "  |    |    ___|____     |        |   \n",
      "  NP   |  DET       N    |       DET \n",
      "  |    |   |        |    |        |   \n",
      "Homer ate the     donut  on     table\n",
      "\n"
     ]
    }
   ],
   "source": [
    "s3= nltk.Tree.fromstring('(S (NP Homer) (VP ate (NP (DET the) (N donut)) (PP on (NP (DET table)))))')\n",
    "s3.pretty_print()"
   ]
  },
  {
   "cell_type": "markdown",
   "id": "155947fb",
   "metadata": {},
   "source": [
    "### Exercise-5"
   ]
  },
  {
   "cell_type": "code",
   "execution_count": 11,
   "id": "347b1423",
   "metadata": {},
   "outputs": [
    {
     "name": "stdout",
     "output_type": "stream",
     "text": [
      "         S                      \n",
      "      ___|________               \n",
      "     |            VP            \n",
      "     |        ____|___           \n",
      "     |       |        PP        \n",
      "     |       |     ___|_____     \n",
      "     NP      |    |         NP  \n",
      "  ___|___    |    |         |    \n",
      " my old cat died  on     tuesday\n",
      "\n"
     ]
    }
   ],
   "source": [
    "s4= nltk.Tree.fromstring('(S (NP my old cat) (VP died (PP on (NP tuesday))))')\n",
    "s4.pretty_print()"
   ]
  },
  {
   "cell_type": "code",
   "execution_count": 12,
   "id": "1d2604ca",
   "metadata": {},
   "outputs": [
    {
     "name": "stdout",
     "output_type": "stream",
     "text": [
      "          S                                               \n",
      "    ______|_________                                       \n",
      "   |      |         VP                                    \n",
      "   |      |     ____|___________                           \n",
      "   |      |    |                PP                        \n",
      "   |      |    |     ___________|__________                \n",
      "   |      |    |    |       |              PP             \n",
      "   |      |    |    |       |         _____|____           \n",
      "   NP     |    VP   |       NP       |          NP        \n",
      "   |      |    |    |    ___|___     |      ____|_____     \n",
      "   N     AUX   V    P  DET      N    P    DET         N   \n",
      "   |      |    |    |   |       |    |     |          |    \n",
      "children must play  in the     park with their     friends\n",
      "\n"
     ]
    }
   ],
   "source": [
    "s5= nltk.Tree.fromstring('(S (NP (N children)) (AUX must) (VP (VP (V play)) (PP (P in) (NP (DET the) (N park)) (PP (P with) (NP (DET their) (N friends))))))')\n",
    "s5.pretty_print()"
   ]
  },
  {
   "cell_type": "markdown",
   "id": "711f40bb",
   "metadata": {},
   "source": [
    "### Exercise-6"
   ]
  },
  {
   "cell_type": "code",
   "execution_count": 13,
   "id": "1bbb2122",
   "metadata": {},
   "outputs": [
    {
     "name": "stdout",
     "output_type": "stream",
     "text": [
      "(VP (V make) (NP (DET a) (N ham) (N sandwich)))\n"
     ]
    }
   ],
   "source": [
    "print(vp)\n",
    "#this is from exercise 1"
   ]
  },
  {
   "cell_type": "code",
   "execution_count": 14,
   "id": "2835faa0",
   "metadata": {},
   "outputs": [
    {
     "data": {
      "text/plain": [
       "[VP -> V NP,\n",
       " V -> 'make',\n",
       " NP -> DET N N,\n",
       " DET -> 'a',\n",
       " N -> 'ham',\n",
       " N -> 'sandwich']"
      ]
     },
     "execution_count": 14,
     "metadata": {},
     "output_type": "execute_result"
    }
   ],
   "source": [
    "vp_rules= vp.productions() # list of all CF rules used in the tree\n",
    "vp_rules"
   ]
  },
  {
   "cell_type": "code",
   "execution_count": 15,
   "id": "b2c6d009",
   "metadata": {},
   "outputs": [
    {
     "data": {
      "text/plain": [
       "VP -> V NP"
      ]
     },
     "execution_count": 15,
     "metadata": {},
     "output_type": "execute_result"
    }
   ],
   "source": [
    "vp_rules[0]"
   ]
  },
  {
   "cell_type": "code",
   "execution_count": 16,
   "id": "b2f41fad",
   "metadata": {},
   "outputs": [
    {
     "data": {
      "text/plain": [
       "V -> 'make'"
      ]
     },
     "execution_count": 16,
     "metadata": {},
     "output_type": "execute_result"
    }
   ],
   "source": [
    "vp_rules[1]"
   ]
  },
  {
   "cell_type": "code",
   "execution_count": 17,
   "id": "84d9e518",
   "metadata": {},
   "outputs": [
    {
     "data": {
      "text/plain": [
       "False"
      ]
     },
     "execution_count": 17,
     "metadata": {},
     "output_type": "execute_result"
    }
   ],
   "source": [
    "vp_rules[0].is_lexical()"
   ]
  },
  {
   "cell_type": "code",
   "execution_count": 18,
   "id": "5c75b5e3",
   "metadata": {},
   "outputs": [
    {
     "data": {
      "text/plain": [
       "True"
      ]
     },
     "execution_count": 18,
     "metadata": {},
     "output_type": "execute_result"
    }
   ],
   "source": [
    "vp_rules[1].is_lexical()"
   ]
  },
  {
   "cell_type": "markdown",
   "id": "fedf8f38",
   "metadata": {},
   "source": [
    "### Explore the CF rules of s5"
   ]
  },
  {
   "cell_type": "code",
   "execution_count": 19,
   "id": "6b2504f3",
   "metadata": {},
   "outputs": [
    {
     "name": "stdout",
     "output_type": "stream",
     "text": [
      "(S\n",
      "  (NP (N children))\n",
      "  (AUX must)\n",
      "  (VP\n",
      "    (VP (V play))\n",
      "    (PP\n",
      "      (P in)\n",
      "      (NP (DET the) (N park))\n",
      "      (PP (P with) (NP (DET their) (N friends))))))\n"
     ]
    }
   ],
   "source": [
    "print(s5)"
   ]
  },
  {
   "cell_type": "code",
   "execution_count": 20,
   "id": "692c997d",
   "metadata": {},
   "outputs": [
    {
     "data": {
      "text/plain": [
       "[S -> NP AUX VP,\n",
       " NP -> N,\n",
       " N -> 'children',\n",
       " AUX -> 'must',\n",
       " VP -> VP PP,\n",
       " VP -> V,\n",
       " V -> 'play',\n",
       " PP -> P NP PP,\n",
       " P -> 'in',\n",
       " NP -> DET N,\n",
       " DET -> 'the',\n",
       " N -> 'park',\n",
       " PP -> P NP,\n",
       " P -> 'with',\n",
       " NP -> DET N,\n",
       " DET -> 'their',\n",
       " N -> 'friends']"
      ]
     },
     "execution_count": 20,
     "metadata": {},
     "output_type": "execute_result"
    }
   ],
   "source": [
    "s5_rules= s5.productions()\n",
    "s5_rules"
   ]
  },
  {
   "cell_type": "markdown",
   "id": "9a1b694a",
   "metadata": {},
   "source": [
    "### a. How many CF rules are used in s5?"
   ]
  },
  {
   "cell_type": "code",
   "execution_count": 21,
   "id": "d2d372b2",
   "metadata": {},
   "outputs": [
    {
     "name": "stdout",
     "output_type": "stream",
     "text": [
      "How many CF values are used in s5  17\n"
     ]
    }
   ],
   "source": [
    "print(\"How many CF values are used in s5 \",len(s5_rules))"
   ]
  },
  {
   "cell_type": "markdown",
   "id": "626f9c50",
   "metadata": {},
   "source": [
    "### b. How many unique CF rules are used in s5?"
   ]
  },
  {
   "cell_type": "code",
   "execution_count": 22,
   "id": "f3302942",
   "metadata": {},
   "outputs": [
    {
     "name": "stdout",
     "output_type": "stream",
     "text": [
      "How many unique CF rules are used in s5  16\n"
     ]
    }
   ],
   "source": [
    "x= npt.array(s5_rules)\n",
    "print(\"How many unique CF rules are used in s5 \",len(npt.unique(x)))"
   ]
  },
  {
   "cell_type": "markdown",
   "id": "cc32018c",
   "metadata": {},
   "source": [
    "### c. How many of them are lexical?"
   ]
  },
  {
   "cell_type": "code",
   "execution_count": 23,
   "id": "408b71c9",
   "metadata": {},
   "outputs": [
    {
     "name": "stdout",
     "output_type": "stream",
     "text": [
      "How many of them are lexical?  9\n"
     ]
    }
   ],
   "source": [
    "n= 0\n",
    "for x in s5_rules:\n",
    "    if x.is_lexical():\n",
    "        n= n+1\n",
    "print(\"How many of them are lexical? \",n)"
   ]
  },
  {
   "cell_type": "code",
   "execution_count": null,
   "id": "bc90c176",
   "metadata": {},
   "outputs": [],
   "source": []
  }
 ],
 "metadata": {
  "kernelspec": {
   "display_name": "Python 3 (ipykernel)",
   "language": "python",
   "name": "python3"
  },
  "language_info": {
   "codemirror_mode": {
    "name": "ipython",
    "version": 3
   },
   "file_extension": ".py",
   "mimetype": "text/x-python",
   "name": "python",
   "nbconvert_exporter": "python",
   "pygments_lexer": "ipython3",
   "version": "3.9.7"
  }
 },
 "nbformat": 4,
 "nbformat_minor": 5
}
